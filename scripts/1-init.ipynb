{
 "cells": [
  {
   "cell_type": "markdown",
   "metadata": {},
   "source": [
    "### Init data based on the covid db data"
   ]
  },
  {
   "cell_type": "code",
   "execution_count": null,
   "metadata": {},
   "outputs": [],
   "source": [
    "import pandas as pd\n",
    "import numpy as np\n",
    "import os\n",
    "import random\n",
    "import torch\n",
    "import time\n",
    "\n",
    "os.chdir(\"PATH_TO_PROJECT\")"
   ]
  },
  {
   "cell_type": "code",
   "execution_count": null,
   "metadata": {},
   "outputs": [],
   "source": [
    "# load selected samples\n",
    "df_selected = pd.read_csv(\"PATH_TO_DATASET\", sep=',')\n",
    "\n",
    "Epitope = list(set(df_selected[\"Epitope\"].to_list()))"
   ]
  },
  {
   "cell_type": "code",
   "execution_count": null,
   "metadata": {},
   "outputs": [],
   "source": [
    "from transformers import AutoTokenizer, AutoModel\n",
    "\n",
    "tokenizer = AutoTokenizer.from_pretrained(\"Rostlab/prot_bert\")\n",
    "model = AutoModel.from_pretrained(\"Rostlab/prot_bert\")"
   ]
  },
  {
   "cell_type": "code",
   "execution_count": null,
   "metadata": {},
   "outputs": [],
   "source": [
    "device = torch.device(\"cuda\" if torch.cuda.is_available() else \"cpu\")\n",
    "model = model.to(device)\n",
    "print(f\"Running on: {device}\")"
   ]
  },
  {
   "cell_type": "code",
   "execution_count": null,
   "metadata": {},
   "outputs": [],
   "source": [
    "sequence_list = df_selected[\"TCR\"].to_list()\n",
    "\n",
    "feature_list = []\n",
    "\n",
    "batch_size = 16\n",
    "for i in range(0, df_selected.shape[0], batch_size):\n",
    "    batch = sequence_list[i:i + batch_size]\n",
    "    inputs = tokenizer(batch, return_tensors=\"pt\", truncation=True, padding=\"max_length\", max_length=512)\n",
    "    inputs = {key: value.to(device) for key, value in inputs.items()}\n",
    "\n",
    "    with torch.no_grad():\n",
    "        outputs = model(**inputs)\n",
    "    feature_vector = outputs.last_hidden_state.mean(dim=1)\n",
    "\n",
    "    feature_list.append(feature_vector)\n",
    "\n",
    "all_features = torch.cat(feature_list, dim=0)\n",
    "mtx = all_features.cpu().numpy()"
   ]
  },
  {
   "cell_type": "code",
   "execution_count": null,
   "metadata": {},
   "outputs": [],
   "source": [
    "mtx_other = np.zeros((df_selected.shape[0], 1))\n",
    "for i in range(df_selected.shape[0]):\n",
    "    mtx_other[i,0] = Epitope.index(df_selected[\"Epitope\"].iloc[i])\n"
   ]
  },
  {
   "cell_type": "code",
   "execution_count": null,
   "metadata": {},
   "outputs": [],
   "source": [
    "data = np.concatenate((mtx, mtx_other), axis=1)\n",
    "np.save(\"data/covid/X_dataset.npy\", data)\n",
    "\n",
    "dict = {'Epitope': Epitope} \n",
    "import pickle \n",
    "\n",
    "with open('data/covid/dataset_feature.pkl', 'wb') as f:\n",
    "    pickle.dump(dict, f)"
   ]
  },
  {
   "cell_type": "code",
   "execution_count": null,
   "metadata": {},
   "outputs": [],
   "source": []
  }
 ],
 "metadata": {
  "kernelspec": {
   "display_name": "bert",
   "language": "python",
   "name": "python3"
  },
  "language_info": {
   "codemirror_mode": {
    "name": "ipython",
    "version": 3
   },
   "file_extension": ".py",
   "mimetype": "text/x-python",
   "name": "python",
   "nbconvert_exporter": "python",
   "pygments_lexer": "ipython3",
   "version": "3.10.16"
  }
 },
 "nbformat": 4,
 "nbformat_minor": 2
}
