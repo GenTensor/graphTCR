{
 "cells": [
  {
   "cell_type": "code",
   "execution_count": null,
   "metadata": {},
   "outputs": [],
   "source": [
    "import pandas as pd\n",
    "import numpy as np\n",
    "from sklearn.feature_extraction.text import CountVectorizer\n",
    "from sklearn.metrics.pairwise import cosine_similarity\n",
    "import os\n",
    "import pickle\n",
    "\n",
    "os.chdir(\"PATH_TO_PROJECT\")"
   ]
  },
  {
   "cell_type": "code",
   "execution_count": null,
   "metadata": {},
   "outputs": [],
   "source": [
    "df_selected = pd.read_csv(\"PATH_TO_DATASET\", sep=',')\n",
    "\n",
    "numSeq = df_selected.shape[0]\n",
    "smtx = np.zeros((numSeq, numSeq))\n",
    "\n",
    "sequence_list = df_selected[\"TCR\"].to_list()\n",
    "\n",
    "# K-mer size\n",
    "k = 3\n",
    "\n",
    "vectorizer = CountVectorizer(analyzer='char', ngram_range=(k, k))\n",
    "\n",
    "for i in range(numSeq):\n",
    "    for j in range(i+1, numSeq):\n",
    "        kmer_matrix = vectorizer.fit_transform([sequence_list[i], sequence_list[j]])\n",
    "        smtx[i,j] = cosine_similarity(kmer_matrix[0], kmer_matrix[1])[0, 0]\n",
    "        smtx[j,i] = smtx[i,j]\n",
    "\n",
    "np.save(\"data/covid/kmer_tcr.npy\", smtx)"
   ]
  },
  {
   "cell_type": "code",
   "execution_count": null,
   "metadata": {},
   "outputs": [],
   "source": []
  }
 ],
 "metadata": {
  "kernelspec": {
   "display_name": "bert",
   "language": "python",
   "name": "python3"
  },
  "language_info": {
   "codemirror_mode": {
    "name": "ipython",
    "version": 3
   },
   "file_extension": ".py",
   "mimetype": "text/x-python",
   "name": "python",
   "nbconvert_exporter": "python",
   "pygments_lexer": "ipython3",
   "version": "3.10.16"
  }
 },
 "nbformat": 4,
 "nbformat_minor": 2
}
